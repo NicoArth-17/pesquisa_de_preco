{
 "cells": [
  {
   "attachments": {},
   "cell_type": "markdown",
   "metadata": {},
   "source": [
    "# Projeto Automação Web - Busca de Preços\n",
    "\n",
    "### Objetivo: treinar um projeto em que a gente tenha que usar automações web com Selenium para buscar as informações que precisamos\n",
    "\n",
    "- Já fizemos um projeto com esse objetivo no Módulo de Python e Web e em gravações de encontros ao vivo, mas não custa nada treinar mais um pouco.\n",
    "\n",
    "### Como vai funcionar:\n",
    "\n",
    "- Imagina que você trabalha na área de compras de uma empresa e precisa fazer uma comparação de fornecedores para os seus insumos/produtos.\n",
    "\n",
    "- Nessa hora, você vai constantemente buscar nos sites desses fornecedores os produtos disponíveis e o preço, afinal, cada um deles pode fazer promoção em momentos diferentes e com valores diferentes.\n",
    "\n",
    "- Seu objetivo: Se o valor dos produtos for abaixo de um preço limite definido por você, você vai descobrir os produtos mais baratos e atualizar isso em uma planilha.\n",
    "- Em seguida, vai enviar um e-mail com a lista dos produtos abaixo do seu preço máximo de compra.\n",
    "\n",
    "- No nosso caso, vamos fazer com produtos comuns em sites como Google Shopping e Buscapé, mas a ideia é a mesma para outros sites.\n",
    "\n",
    "### Outra opção: (caso o site esteja preparado para evitar esse tipo de utilizaçao do selenium)\n",
    "\n",
    "- APIs\n",
    "\n",
    "### O que temos disponível?\n",
    "\n",
    "- Planilha de Produtos, com os nomes dos produtos, o preço máximo, o preço mínimo (para evitar produtos \"errados\" ou \"baratos de mais para ser verdade\" e os termos que vamos querer evitar nas nossas buscas.\n",
    "\n",
    "### O que devemos fazer:\n",
    "\n",
    "- Procurar cada produto no Google Shopping e pegar todos os resultados que tenham preço dentro da faixa e sejam os produtos corretos\n",
    "- O mesmo para o Buscapé\n",
    "- Enviar um e-mail para o seu e-mail (no caso da empresa seria para a área de compras por exemplo) com a notificação e a tabela com os itens e preços encontrados, junto com o link de compra. (Vou usar o e-mail pythonimpressionador@gmail.com. Use um e-mail seu para fazer os testes para ver se a mensagem está chegando)"
   ]
  },
  {
   "cell_type": "code",
   "execution_count": 1,
   "metadata": {},
   "outputs": [
    {
     "data": {
      "text/html": [
       "<div>\n",
       "<style scoped>\n",
       "    .dataframe tbody tr th:only-of-type {\n",
       "        vertical-align: middle;\n",
       "    }\n",
       "\n",
       "    .dataframe tbody tr th {\n",
       "        vertical-align: top;\n",
       "    }\n",
       "\n",
       "    .dataframe thead th {\n",
       "        text-align: right;\n",
       "    }\n",
       "</style>\n",
       "<table border=\"1\" class=\"dataframe\">\n",
       "  <thead>\n",
       "    <tr style=\"text-align: right;\">\n",
       "      <th></th>\n",
       "      <th>Nome</th>\n",
       "      <th>Termos banidos</th>\n",
       "      <th>Preço mínimo</th>\n",
       "      <th>Preço máximo</th>\n",
       "    </tr>\n",
       "  </thead>\n",
       "  <tbody>\n",
       "    <tr>\n",
       "      <th>0</th>\n",
       "      <td>iphone 12 64gb</td>\n",
       "      <td>mini watch</td>\n",
       "      <td>3000</td>\n",
       "      <td>3500</td>\n",
       "    </tr>\n",
       "    <tr>\n",
       "      <th>1</th>\n",
       "      <td>rtx 3060</td>\n",
       "      <td>zota galax</td>\n",
       "      <td>4000</td>\n",
       "      <td>4500</td>\n",
       "    </tr>\n",
       "  </tbody>\n",
       "</table>\n",
       "</div>"
      ],
      "text/plain": [
       "             Nome Termos banidos  Preço mínimo  Preço máximo\n",
       "0  iphone 12 64gb     mini watch          3000          3500\n",
       "1        rtx 3060     zota galax          4000          4500"
      ]
     },
     "metadata": {},
     "output_type": "display_data"
    },
    {
     "name": "stdout",
     "output_type": "stream",
     "text": [
      "<class 'pandas.core.frame.DataFrame'>\n",
      "RangeIndex: 2 entries, 0 to 1\n",
      "Data columns (total 4 columns):\n",
      " #   Column          Non-Null Count  Dtype \n",
      "---  ------          --------------  ----- \n",
      " 0   Nome            2 non-null      object\n",
      " 1   Termos banidos  2 non-null      object\n",
      " 2   Preço mínimo    2 non-null      int64 \n",
      " 3   Preço máximo    2 non-null      int64 \n",
      "dtypes: int64(2), object(2)\n",
      "memory usage: 192.0+ bytes\n"
     ]
    }
   ],
   "source": [
    "import pandas as pd\n",
    "\n",
    "produtos_df = pd.read_excel('arquivos/buscas.xlsx')\n",
    "display(produtos_df)\n",
    "produtos_df.info()"
   ]
  },
  {
   "cell_type": "code",
   "execution_count": 2,
   "metadata": {},
   "outputs": [],
   "source": [
    "from selenium import webdriver # Comandar navegador controlado\n",
    "from selenium.webdriver.chrome.service import Service # responsável por iniciar e parar o chromedriver\n",
    "from webdriver_manager.chrome import ChromeDriverManager # Gerenciar arquvio ChromeDriver\n",
    "\n",
    "# Instalar arquivo temporário ChromeDrive a partir da versão atual do Chrome\n",
    "servico = Service(ChromeDriverManager().install())\n",
    "\n",
    "# Abrir navegador com tela maximizada\n",
    "options = webdriver.ChromeOptions()\n",
    "options.add_argument('--start-maximized')\n",
    "\n",
    "# Criar navegador\n",
    "nav = webdriver.Chrome(service=servico, options=options)"
   ]
  },
  {
   "cell_type": "code",
   "execution_count": 3,
   "metadata": {},
   "outputs": [],
   "source": [
    "# Entrar google shopping\n",
    "nav.get('https://shopping.google.com/?nord=1')"
   ]
  },
  {
   "cell_type": "code",
   "execution_count": 4,
   "metadata": {},
   "outputs": [],
   "source": [
    "from selenium.webdriver.common.by import By # Selecionar elementos\n",
    "from selenium.webdriver.common.keys import Keys # Utilizar comandos do teclado\n",
    "\n",
    "# Pesquisar produto\n",
    "nav.find_element(By.XPATH, '//*[@id=\"REsRA\"]').send_keys(produtos_df['Nome'][0])\n",
    "nav.find_element(By.XPATH, '//*[@id=\"REsRA\"]').send_keys(Keys.ENTER)\n",
    "\n"
   ]
  },
  {
   "cell_type": "code",
   "execution_count": 5,
   "metadata": {},
   "outputs": [],
   "source": [
    "# Filtrar Valor\n",
    "\n",
    "nav.find_element(By.XPATH, '//*[@id=\"rcnt\"]/div[2]/div/div/div[3]/div[2]/div/div/div/span[6]/form/div[1]/div[1]/div/g-text-field/div/div[2]/input').send_keys(str(produtos_df['Preço mínimo'][0]))\n",
    "nav.find_element(By.XPATH, '//*[@id=\"rcnt\"]/div[2]/div/div/div[3]/div[2]/div/div/div/span[6]/form/div[1]/div[2]/div/g-text-field/div/div[2]/input').send_keys(str(produtos_df['Preço máximo'][0]))\n",
    "nav.find_element(By.XPATH, '//*[@id=\"rcnt\"]/div[2]/div/div/div[3]/div[2]/div/div/div/span[6]/form/div[1]/div[2]/button').click()"
   ]
  },
  {
   "cell_type": "code",
   "execution_count": 24,
   "metadata": {},
   "outputs": [
    {
     "name": "stdout",
     "output_type": "stream",
     "text": [
      "24 [('iphone 12 64gb', 'R$ 3.024,00', 'https://www.google.com/url?url=https://doji.com.br/product/apple-iphone-12-branco-64gb-como-novo&rct=j&q=&esrc=s&sa=U&ved=0ahUKEwjUrfqV5N7_AhWur5UCHe77CPIQgOUECI8N&usg=AOvVaw34Tu-aqOmuyuiSqU4M5Ttl'), ('iphone 12 64gb', 'R$ 3.059,99', 'https://www.google.com/url?url=https://www.magazineluiza.com.br/iphone-11-apple-64gb-branco-61-12mp-ios-microsoft-365-personal-office-365-apps-1tb/p/2297528/te/ip11/%3F%26force%3D8%26seller_id%3Dmagazineluiza&rct=j&q=&esrc=s&sa=U&ved=0ahUKEwjUrfqV5N7_AhWur5UCHe77CPIQgOUECPgN&usg=AOvVaw3cegr68a9dsQyna5MRaLJh'), ('iphone 12 64gb', 'R$ 3.059,99', 'https://www.google.com/url?url=https://www.magazineluiza.com.br/iphone-11-apple-64gb-preto-61-12mp-ios-microsoft-365-personal-office-365-apps-1tb/p/2297527/te/ip11/%3F%26force%3D8%26seller_id%3Dmagazineluiza&rct=j&q=&esrc=s&sa=U&ved=0ahUKEwjUrfqV5N7_AhWur5UCHe77CPIQgOUECKoP&usg=AOvVaw0ZToFHrQAn1ZQKRLha38Ln'), ('iphone 12 64gb', 'R$ 3.059,99', 'https://www.google.com/url?url=https://loja.stentor.com.br/shop/produto.php%3Fid%3D61761&rct=j&q=&esrc=s&sa=U&ved=0ahUKEwjUrfqV5N7_AhWur5UCHe77CPIQgOUECMcP&usg=AOvVaw3oIlv092jOTmhNhCX2bmGH'), ('iphone 12 64gb', 'R$ 3.109,00', 'https://www.google.com/url?url=https://www.colombo.com.br/produto/Smartphone-e-Celular/Usado-iPhone-12-64GB-Preto-Bom-Trocafone-Preto%3Fportal%3D8B36E9207C24C76E6719268E49201D94%26srsltid%3DAR57-fB14ptuZk5AhmpXZhpDdt08sC5Hfg_8MKK_m6adIx3dxGiiIYnhVfc&rct=j&q=&esrc=s&sa=U&ved=0ahUKEwjUrfqV5N7_AhWur5UCHe77CPIQgOUECLIL&usg=AOvVaw0_qq0pCixd1qBPDIpvCeYa'), ('iphone 12 64gb', 'R$ 3.140,72', 'https://www.google.com/url?url=https://www.magazineluiza.com.br/usado-iphone-12-64gb-azul-muito-bom-trocafone-apple/p/cg0240c21g/te/ceba/%3F%26seller_id%3Dtrocafone&rct=j&q=&esrc=s&sa=U&ved=0ahUKEwjUrfqV5N7_AhWur5UCHe77CPIQgOUECOYK&usg=AOvVaw1natTqdx2yRkeGiejnGoqm'), ('iphone 12 64gb', 'R$ 3.159,00', 'https://www.google.com/url?url=https://produto.mercadolivre.com.br/MLB-3718736294-vitrine-apple-iphone-12-64gb-original-com-garantia-_JM%3Fmatt_tool%3D18956390%26utm_source%3Dgoogle_shopping%26utm_medium%3Dorganic&rct=j&q=&esrc=s&sa=U&ved=0ahUKEwjUrfqV5N7_AhWur5UCHe77CPIQgOUECJQL&usg=AOvVaw1semAqtvt2sMV_shOZS3IA'), ('iphone 12 64gb', 'R$ 3.159,90', 'https://www.google.com/url?url=https://produto.mercadolivre.com.br/MLB-3743241650-apple-iphone-12-64gb-vitrine-original-promoco-10-off-_JM%3Fmatt_tool%3D18956390%26utm_source%3Dgoogle_shopping%26utm_medium%3Dorganic&rct=j&q=&esrc=s&sa=U&ved=0ahUKEwjUrfqV5N7_AhWur5UCHe77CPIQgOUECNMM&usg=AOvVaw04u9u-XKlm2JPASdjIF5vc'), ('iphone 12 64gb', 'R$ 3.194,10', 'https://www.google.com/url?url=https://produto.mercadolivre.com.br/MLB-3743410746-apple-iphone-12-64gb-original-_JM%3Fmatt_tool%3D18956390%26utm_source%3Dgoogle_shopping%26utm_medium%3Dorganic&rct=j&q=&esrc=s&sa=U&ved=0ahUKEwjUrfqV5N7_AhWur5UCHe77CPIQgOUECM8L&usg=AOvVaw2dHynHq09R9l8dy7YnEeTM'), ('iphone 12 64gb', 'R$ 3.194,10', 'https://www.google.com/url?url=https://produto.mercadolivre.com.br/MLB-3356787487-apple-iphone-12-64gb-original-com-garantia-envio-hoje-_JM%3Fmatt_tool%3D18956390%26utm_source%3Dgoogle_shopping%26utm_medium%3Dorganic&rct=j&q=&esrc=s&sa=U&ved=0ahUKEwjUrfqV5N7_AhWur5UCHe77CPIQgOUECNwL&usg=AOvVaw2YDC5uuFjKls1eeqkvEAcS'), ('iphone 12 64gb', 'R$ 3.198,00', 'https://www.google.com/url?url=https://produto.mercadolivre.com.br/MLB-3255976519-apple-iphone-12-64gb-vitrine-original-bateria-100-nf-_JM%3Fmatt_tool%3D18956390%26utm_source%3Dgoogle_shopping%26utm_medium%3Dorganic&rct=j&q=&esrc=s&sa=U&ved=0ahUKEwjUrfqV5N7_AhWur5UCHe77CPIQgOUECP4O&usg=AOvVaw1cWOiZsmltwxhcyHHqNvQo'), ('iphone 12 64gb', 'R$ 3.198,89', 'https://www.google.com/url?url=https://www.connectparts.com.br/iphone-11-apple-64gb-branco-tela-de-61%25E2%2580%259D-camera-dupla-de-12mp-ios-2504048/p%3Fidsku%3D2558438%26srsltid%3DAR57-fBLYpe7daUAbHNHy-qsazu6mFwIwt-KJtrh1y4HjDuaxW0YusuvfPQ&rct=j&q=&esrc=s&sa=U&ved=0ahUKEwjUrfqV5N7_AhWur5UCHe77CPIQgOUECJYO&usg=AOvVaw3HjLZm_C7JVPXzs3fUFzU6'), ('iphone 12 64gb', 'R$ 3.199,00', 'https://www.google.com/url?url=https://www.taqi.com.br/seminovo-iphone12-apple-azul64gb-nacional/220673%3Fsrsltid%3DAR57-fBo4K4Rt40_IpCoFQHqtpLVW6Snn6mOtBtMISeI3zcY0fcTy5DZh6Y&rct=j&q=&esrc=s&sa=U&ved=0ahUKEwjUrfqV5N7_AhWur5UCHe77CPIQgOUECK8N&usg=AOvVaw2tFzZggxi9eMtRRJsTJyL_'), ('iphone 12 64gb', 'R$ 3.199,00', 'https://www.google.com/url?url=https://www.taqi.com.br/seminovo-usado-apple-iphone-12-preto-nacional/221635%3Fsrsltid%3DAR57-fA0Jvuzg-_pAYxU9DA25TCWVSG3xVZnv3ivdiQV0M7-2cK9APDFt2s&rct=j&q=&esrc=s&sa=U&ved=0ahUKEwjUrfqV5N7_AhWur5UCHe77CPIQgOUECKUO&usg=AOvVaw3LfSPlhMKg5FjEaDmKr-NJ'), ('iphone 12 64gb', 'R$ 3.199,00', 'https://www.google.com/url?url=https://www.taqi.com.br/seminovo-apple-iphone12-64gb/220684%3Fsrsltid%3DAR57-fBCGun3asBsTQaPKE4QzVQfOTUQ40fNmhgXuGiOkF8wV4rdD3mXM20&rct=j&q=&esrc=s&sa=U&ved=0ahUKEwjUrfqV5N7_AhWur5UCHe77CPIQgOUECLkP&usg=AOvVaw2t_Ln3ikh7lY-wqpAnUP1b'), ('iphone 12 64gb', 'R$ 3.199,99', 'https://www.google.com/url?url=https://www.carrefour.com.br/vitrine-iphone-12-preto-64gb-mp931589157/p&rct=j&q=&esrc=s&sa=U&ved=0ahUKEwjUrfqV5N7_AhWur5UCHe77CPIQgOUECKML&usg=AOvVaw0vK5RT6CfiUgJ4XHTx_tpz'), ('iphone 12 64gb', 'R$ 3.199,99', 'https://www.google.com/url?url=https://www.carrefour.com.br/vitrine-iphone-12-verde-64gb-mp931589150/p&rct=j&q=&esrc=s&sa=U&ved=0ahUKEwjUrfqV5N7_AhWur5UCHe77CPIQgOUECPoL&usg=AOvVaw3z803DMmbChf4Wa9XPVaeJ'), ('iphone 12 64gb', 'R$ 3.199,99', 'https://www.google.com/url?url=https://www.xongeek.com.br/smartphone-iphone-11-64gb-camera-de-12mp-vermelho-apple&rct=j&q=&esrc=s&sa=U&ved=0ahUKEwjUrfqV5N7_AhWur5UCHe77CPIQgOUECOUP&usg=AOvVaw3VK0-43KfwOiwgnIr8cuuB'), ('iphone 12 64gb', 'R$ 3.259,00', 'https://www.google.com/url?url=https://produto.mercadolivre.com.br/MLB-3309331705-vitrine-apple-iphone-12-64gb-original-verde-_JM%3Fmatt_tool%3D18956390%26utm_source%3Dgoogle_shopping%26utm_medium%3Dorganic&rct=j&q=&esrc=s&sa=U&ved=0ahUKEwjUrfqV5N7_AhWur5UCHe77CPIQgOUECPYK&usg=AOvVaw2BhVGZ2po06X2qzocpT6Wl'), ('iphone 12 64gb', 'R$ 3.259,00', 'https://www.google.com/url?url=https://produto.mercadolivre.com.br/MLB-3307307769-vitrine-apple-iphone-12-64gb-verde-original-10x-s-juros-_JM%3Fmatt_tool%3D18956390%26utm_source%3Dgoogle_shopping%26utm_medium%3Dorganic&rct=j&q=&esrc=s&sa=U&ved=0ahUKEwjUrfqV5N7_AhWur5UCHe77CPIQgOUECIUL&usg=AOvVaw2wmh52GUblAEewlXf-ZCP8'), ('iphone 12 64gb', 'R$ 3.299,00', 'https://www.google.com/url?url=https://www.carrefour.com.br/iphone-12-64gb-roxo-tela-61-4g-camera-traseira-12mp-vitrine-mp932882255/p&rct=j&q=&esrc=s&sa=U&ved=0ahUKEwjUrfqV5N7_AhWur5UCHe77CPIQguUECNcK&usg=AOvVaw3zPvbnXRag6q1kB2MRpWja'), ('iphone 12 64gb', 'R$ 3.299,00', 'https://www.google.com/url?url=https://www.carrefour.com.br/iphone-12-64gb-branco-de-vitrine-tela-61quot-4g-camera-traseira-12mp12mp-vitrine-mp932521352/p&rct=j&q=&esrc=s&sa=U&ved=0ahUKEwjUrfqV5N7_AhWur5UCHe77CPIQgOUECMIL&usg=AOvVaw11gwZVygmJD4a1XAPu2CDC'), ('iphone 12 64gb', 'R$ 3.360,00', 'https://www.google.com/url?url=https://www.mastershopatacadista.com.br/produto/apple-iphone-12-64gb-semi-novo/%3Fattribute_pa_cores-disponiveis%3Dazul&rct=j&q=&esrc=s&sa=U&ved=0ahUKEwjUrfqV5N7_AhWur5UCHe77CPIQgOUECOsL&usg=AOvVaw1Iej1as4ouarWEuLXazmBt'), ('iphone 12 64gb', 'R$ 3.415,00', 'https://www.google.com/url?url=https://www.enjoei.com.br/p/iphone-11-apple-64gb-preto-tela-de-6-1-camera-dupla-de-12mp-ios-85821143%3Fg_campaign%3Dgoogle_shopping&rct=j&q=&esrc=s&sa=U&ved=0ahUKEwjUrfqV5N7_AhWur5UCHe77CPIQgOUECMsN&usg=AOvVaw1BFzMmMPHgld7MZAMchgkZ')]\n"
     ]
    }
   ],
   "source": [
    "# Listando Valores Encontrados\n",
    "\n",
    "# Listando elementos com informações do produto pesquisado\n",
    "info_produto = nav.find_elements(By.CLASS_NAME, 'sh-dgr__grid-result')\n",
    "\n",
    "# Listando termos banidos\n",
    "termos_banidos = produtos_df['Termos banidos'][0].lower()\n",
    "termos_banidos = termos_banidos.split(' ')\n",
    "\n",
    "# Listando termos do nome do produto\n",
    "termos_produto = produtos_df['Nome'][0].lower()\n",
    "termos_produto = termos_produto.split(' ')\n",
    "\n",
    "# Criando lista com os nome, preço e link do produto\n",
    "resultado_pesquisa = []\n",
    "for elemento in info_produto:\n",
    "    \n",
    "    # Selecionando elemento com nome do produto\n",
    "    nome_produto = elemento.find_element(By.CLASS_NAME, 'tAxDx').text.lower()\n",
    "\n",
    "    # Verificando termo banido\n",
    "    produto_banido = False\n",
    "    for termo in termos_banidos:\n",
    "        if termo in nome_produto:\n",
    "            produto_banido = True\n",
    "    \n",
    "    # Verificando se o nome do produto bate com o pesquisado\n",
    "    produto_aceito = True\n",
    "    for termo in termos_produto:\n",
    "        if not termo in nome_produto:\n",
    "            produto_aceito = False\n",
    "\n",
    "    # Filtrando nome do produto\n",
    "    if produto_aceito and not produto_banido:\n",
    "\n",
    "        # Selecionando elemento com preço do produto\n",
    "        preço = elemento.find_element(By.CLASS_NAME, 'a8Pemb').text\n",
    "\n",
    "        # Selecionando elemento com link do produto\n",
    "        elemento_link_filho = elemento.find_element(By.CLASS_NAME, 'aULzUe')\n",
    "        elemento_link_pai = elemento_link_filho.find_element(By.XPATH, '..')\n",
    "        link = elemento_link_pai.get_attribute('href')\n",
    "        \n",
    "        resultado_pesquisa.append((produtos_df['Nome'][0], preço, link))\n",
    "\n",
    "resultado_pesquisa.sort(key= lambda x: x[1], reverse=False)\n",
    "print(len(resultado_pesquisa), resultado_pesquisa)\n"
   ]
  },
  {
   "cell_type": "code",
   "execution_count": 5,
   "metadata": {},
   "outputs": [
    {
     "name": "stdout",
     "output_type": "stream",
     "text": [
      "3000\n"
     ]
    }
   ],
   "source": [
    "print(produtos_df['Preço mínimo'][0])"
   ]
  }
 ],
 "metadata": {
  "kernelspec": {
   "display_name": "Python 3",
   "language": "python",
   "name": "python3"
  },
  "language_info": {
   "codemirror_mode": {
    "name": "ipython",
    "version": 3
   },
   "file_extension": ".py",
   "mimetype": "text/x-python",
   "name": "python",
   "nbconvert_exporter": "python",
   "pygments_lexer": "ipython3",
   "version": "3.11.1"
  }
 },
 "nbformat": 4,
 "nbformat_minor": 4
}
