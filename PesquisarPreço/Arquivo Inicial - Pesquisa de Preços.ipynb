{
 "cells": [
  {
   "attachments": {},
   "cell_type": "markdown",
   "metadata": {},
   "source": [
    "# Projeto Automação Web - Busca de Preços\n",
    "\n",
    "### Objetivo: treinar um projeto em que a gente tenha que usar automações web com Selenium para buscar as informações que precisamos\n",
    "\n",
    "- Já fizemos um projeto com esse objetivo no Módulo de Python e Web e em gravações de encontros ao vivo, mas não custa nada treinar mais um pouco.\n",
    "\n",
    "### Como vai funcionar:\n",
    "\n",
    "- Imagina que você trabalha na área de compras de uma empresa e precisa fazer uma comparação de fornecedores para os seus insumos/produtos.\n",
    "\n",
    "- Nessa hora, você vai constantemente buscar nos sites desses fornecedores os produtos disponíveis e o preço, afinal, cada um deles pode fazer promoção em momentos diferentes e com valores diferentes.\n",
    "\n",
    "- Seu objetivo: Se o valor dos produtos for abaixo de um preço limite definido por você, você vai descobrir os produtos mais baratos e atualizar isso em uma planilha.\n",
    "- Em seguida, vai enviar um e-mail com a lista dos produtos abaixo do seu preço máximo de compra.\n",
    "\n",
    "- No nosso caso, vamos fazer com produtos comuns em sites como Google Shopping e Buscapé, mas a ideia é a mesma para outros sites.\n",
    "\n",
    "### Outra opção: (caso o site esteja preparado para evitar esse tipo de utilizaçao do selenium)\n",
    "\n",
    "- APIs\n",
    "\n",
    "### O que temos disponível?\n",
    "\n",
    "- Planilha de Produtos, com os nomes dos produtos, o preço máximo, o preço mínimo (para evitar produtos \"errados\" ou \"baratos de mais para ser verdade\" e os termos que vamos querer evitar nas nossas buscas.\n",
    "\n",
    "### O que devemos fazer:\n",
    "\n",
    "- Procurar cada produto no Google Shopping e pegar todos os resultados que tenham preço dentro da faixa e sejam os produtos corretos\n",
    "- O mesmo para o Buscapé\n",
    "- Enviar um e-mail para o seu e-mail (no caso da empresa seria para a área de compras por exemplo) com a notificação e a tabela com os itens e preços encontrados, junto com o link de compra. (Vou usar o e-mail pythonimpressionador@gmail.com. Use um e-mail seu para fazer os testes para ver se a mensagem está chegando)"
   ]
  },
  {
   "cell_type": "code",
   "execution_count": 1,
   "metadata": {},
   "outputs": [
    {
     "data": {
      "text/html": [
       "<div>\n",
       "<style scoped>\n",
       "    .dataframe tbody tr th:only-of-type {\n",
       "        vertical-align: middle;\n",
       "    }\n",
       "\n",
       "    .dataframe tbody tr th {\n",
       "        vertical-align: top;\n",
       "    }\n",
       "\n",
       "    .dataframe thead th {\n",
       "        text-align: right;\n",
       "    }\n",
       "</style>\n",
       "<table border=\"1\" class=\"dataframe\">\n",
       "  <thead>\n",
       "    <tr style=\"text-align: right;\">\n",
       "      <th></th>\n",
       "      <th>Nome</th>\n",
       "      <th>Termos banidos</th>\n",
       "      <th>Preço mínimo</th>\n",
       "      <th>Preço máximo</th>\n",
       "    </tr>\n",
       "  </thead>\n",
       "  <tbody>\n",
       "    <tr>\n",
       "      <th>0</th>\n",
       "      <td>iphone 12 64gb</td>\n",
       "      <td>mini watch</td>\n",
       "      <td>3000</td>\n",
       "      <td>3500</td>\n",
       "    </tr>\n",
       "    <tr>\n",
       "      <th>1</th>\n",
       "      <td>rtx 3060</td>\n",
       "      <td>zota galax</td>\n",
       "      <td>4000</td>\n",
       "      <td>4500</td>\n",
       "    </tr>\n",
       "  </tbody>\n",
       "</table>\n",
       "</div>"
      ],
      "text/plain": [
       "             Nome Termos banidos  Preço mínimo  Preço máximo\n",
       "0  iphone 12 64gb     mini watch          3000          3500\n",
       "1        rtx 3060     zota galax          4000          4500"
      ]
     },
     "metadata": {},
     "output_type": "display_data"
    },
    {
     "name": "stdout",
     "output_type": "stream",
     "text": [
      "<class 'pandas.core.frame.DataFrame'>\n",
      "RangeIndex: 2 entries, 0 to 1\n",
      "Data columns (total 4 columns):\n",
      " #   Column          Non-Null Count  Dtype \n",
      "---  ------          --------------  ----- \n",
      " 0   Nome            2 non-null      object\n",
      " 1   Termos banidos  2 non-null      object\n",
      " 2   Preço mínimo    2 non-null      int64 \n",
      " 3   Preço máximo    2 non-null      int64 \n",
      "dtypes: int64(2), object(2)\n",
      "memory usage: 192.0+ bytes\n"
     ]
    }
   ],
   "source": [
    "import pandas as pd\n",
    "\n",
    "produtos_df = pd.read_excel('arquivos/buscas.xlsx')\n",
    "display(produtos_df)\n",
    "produtos_df.info()"
   ]
  },
  {
   "cell_type": "code",
   "execution_count": 2,
   "metadata": {},
   "outputs": [
    {
     "name": "stderr",
     "output_type": "stream",
     "text": [
      "[WDM] - Downloading: 100%|██████████| 6.30M/6.30M [00:00<00:00, 32.6MB/s]\n"
     ]
    }
   ],
   "source": [
    "from selenium import webdriver # Comandar navegador controlado\n",
    "from selenium.webdriver.chrome.service import Service # responsável por iniciar e parar o chromedriver\n",
    "from webdriver_manager.chrome import ChromeDriverManager # Gerenciar arquvio ChromeDriver\n",
    "\n",
    "# Instalar arquivo temporário ChromeDrive a partir da versão atual do Chrome\n",
    "servico = Service(ChromeDriverManager().install())\n",
    "\n",
    "# Abrir navegador com tela maximizada\n",
    "options = webdriver.ChromeOptions()\n",
    "options.add_argument('--start-maximized')\n",
    "\n",
    "# Criar navegador\n",
    "nav = webdriver.Chrome(service=servico, options=options)"
   ]
  },
  {
   "cell_type": "code",
   "execution_count": 3,
   "metadata": {},
   "outputs": [],
   "source": [
    "# Entrar google shopping\n",
    "nav.get('https://shopping.google.com/?nord=1')\n",
    "\n"
   ]
  },
  {
   "cell_type": "code",
   "execution_count": 4,
   "metadata": {},
   "outputs": [],
   "source": [
    "from selenium.webdriver.common.by import By # Selecionar elementos\n",
    "from selenium.webdriver.common.keys import Keys # Utilizar comandos do teclado\n",
    "\n",
    "# Pesquisar produto\n",
    "nav.find_element(By.XPATH, '//*[@id=\"REsRA\"]').send_keys(produtos_df['Nome'][0])\n",
    "nav.find_element(By.XPATH, '//*[@id=\"REsRA\"]').send_keys(Keys.ENTER)\n",
    "\n"
   ]
  },
  {
   "cell_type": "code",
   "execution_count": 5,
   "metadata": {},
   "outputs": [],
   "source": [
    "# Filtrar Valor\n",
    "\n",
    "nav.find_element(By.XPATH, '//*[@id=\"rcnt\"]/div[2]/div/div/div[3]/div[2]/div/div/div/span[6]/form/div[1]/div[1]/div/g-text-field/div/div[2]/input').send_keys(str(produtos_df['Preço mínimo'][0]))\n",
    "nav.find_element(By.XPATH, '//*[@id=\"rcnt\"]/div[2]/div/div/div[3]/div[2]/div/div/div/span[6]/form/div[1]/div[2]/div/g-text-field/div/div[2]/input').send_keys(str(produtos_df['Preço máximo'][0]))\n",
    "nav.find_element(By.XPATH, '//*[@id=\"rcnt\"]/div[2]/div/div/div[3]/div[2]/div/div/div/span[6]/form/div[1]/div[2]/button').click()"
   ]
  },
  {
   "cell_type": "code",
   "execution_count": 17,
   "metadata": {},
   "outputs": [
    {
     "name": "stdout",
     "output_type": "stream",
     "text": [
      "['R$ 3.015,00', 'R$ 3.024,00', 'R$ 3.049,00', 'R$ 3.059,99', 'R$ 3.059,99', 'R$ 3.059,99', 'R$ 3.080,00', 'R$ 3.095,10', 'R$ 3.099,90', 'R$ 3.109,00', 'R$ 3.118,00', 'R$ 3.129,45', 'R$ 3.140,72', 'R$ 3.152,40', 'R$ 3.159,00', 'R$ 3.159,90', 'R$ 3.160,00', 'R$ 3.175,00', 'R$ 3.179,00', 'R$ 3.194,10', 'R$ 3.198,00', 'R$ 3.198,89', 'R$ 3.199,00', 'R$ 3.199,00', 'R$ 3.199,00', 'R$ 3.199,00', 'R$ 3.199,90', 'R$ 3.199,99', 'R$ 3.199,99', 'R$ 3.199,99', 'R$ 3.199,99', 'R$ 3.208,00', 'R$ 3.219,00', 'R$ 3.219,00', 'R$ 3.239,00', 'R$ 3.250,00', 'R$ 3.253,95', 'R$ 3.259,00', 'R$ 3.259,00', 'R$ 3.284,00', 'R$ 3.299,00', 'R$ 3.299,00', 'R$ 3.299,00', 'R$ 3.299,00', 'R$ 3.330,00', 'R$ 3.350,00', 'R$ 3.360,00', 'R$ 3.365,00', 'R$ 3.399,00', 'R$ 3.399,00', 'R$ 3.399,00', 'R$ 3.399,00', 'R$ 3.402,13', 'R$ 3.415,00', 'R$ 3.419,68', 'R$ 3.429,00', 'R$ 3.429,00', 'R$ 3.429,00', 'R$ 3.465,00', 'R$ 3.499,00']\n"
     ]
    }
   ],
   "source": [
    "# Listando Valores Encontrados\n",
    "\n",
    "# Listando elementos com informações do produto pesquisado\n",
    "info_produto = nav.find_elements(By.CLASS_NAME, 'sh-dgr__grid-result')\n",
    "\n",
    "# Criando lista com os preços de iphone\n",
    "list_preço_iphone = []\n",
    "for elemento in info_produto:\n",
    "\n",
    "    termo_banido = produtos_df['Termos banidos'][0]\n",
    "    \n",
    "\n",
    "    preço_iphone = elemento.find_element(By.CLASS_NAME, 'a8Pemb').text\n",
    "    list_preço_iphone.append(preço_iphone)\n",
    "\n",
    "# Ordenando lista de preços crescentemente\n",
    "list_preço_iphone.sort(reverse=False)\n",
    "print(list_preço_iphone)\n"
   ]
  },
  {
   "cell_type": "code",
   "execution_count": 5,
   "metadata": {},
   "outputs": [
    {
     "name": "stdout",
     "output_type": "stream",
     "text": [
      "3000\n"
     ]
    }
   ],
   "source": [
    "print(produtos_df['Preço mínimo'][0])"
   ]
  }
 ],
 "metadata": {
  "kernelspec": {
   "display_name": "Python 3",
   "language": "python",
   "name": "python3"
  },
  "language_info": {
   "codemirror_mode": {
    "name": "ipython",
    "version": 3
   },
   "file_extension": ".py",
   "mimetype": "text/x-python",
   "name": "python",
   "nbconvert_exporter": "python",
   "pygments_lexer": "ipython3",
   "version": "3.11.1"
  }
 },
 "nbformat": 4,
 "nbformat_minor": 4
}
